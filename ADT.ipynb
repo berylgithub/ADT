{
 "cells": [
  {
   "cell_type": "code",
   "execution_count": 1,
   "metadata": {},
   "outputs": [],
   "source": [
    "using Zygote, ReverseDiff, ForwardDiff, LinearAlgebra"
   ]
  },
  {
   "cell_type": "code",
   "execution_count": 91,
   "metadata": {},
   "outputs": [
    {
     "data": {
      "text/plain": [
       "J_f_3 (generic function with 1 method)"
      ]
     },
     "execution_count": 91,
     "metadata": {},
     "output_type": "execute_result"
    }
   ],
   "source": [
    "\"\"\"\n",
    "u = Ax + some constant col vector\n",
    "\"\"\"\n",
    "function f_test_1(A, x)\n",
    "    u = A*x[2:end] .+ x[1]\n",
    "    return u\n",
    "end\n",
    "\n",
    "\"\"\"\n",
    "alloc inside\n",
    "\"\"\"\n",
    "function f_test_2(A, x)\n",
    "    u = Vector{Float64}(undef, length(x)-1)\n",
    "    u .= A*x[2:end] .+ x[1]\n",
    "    return u\n",
    "end\n",
    "\n",
    "\"\"\"\n",
    "non-alloc ver\n",
    "\"\"\"\n",
    "function f_test_3!(u, A, x)\n",
    "    u .= A*x[2:end] .+ x[1]\n",
    "end\n",
    "\n",
    "\n",
    "\"\"\"\n",
    "unrolled loop ver (nonalloc)\n",
    "\"\"\"\n",
    "function f_test_4!(u, A, x)\n",
    "    row_idx = 1:size(A)[1]; col_idx = 1:size(A)[2]\n",
    "    for j ∈ col_idx\n",
    "        for i ∈ row_idx\n",
    "            u[i] += A[i,j]*x[j+1]\n",
    "        end\n",
    "    end\n",
    "    for i ∈ row_idx\n",
    "        u[i] += x[1]\n",
    "    end\n",
    "end\n",
    "\n",
    "\"\"\"\n",
    "= _4 but allocates & returns the output explicitly\n",
    "\"\"\"\n",
    "function f_test_4b(A, x)\n",
    "    row_size = size(A)[1]\n",
    "    row_idx = 1:row_size; col_idx = 1:size(A)[2]\n",
    "    u = Vector{Float64}(undef, row_size); fill!(u, 0.)\n",
    "    for j ∈ col_idx\n",
    "        for i ∈ row_idx\n",
    "            u[i] += A[i,j]*x[j+1]\n",
    "        end\n",
    "    end\n",
    "    for i ∈ row_idx\n",
    "        u[i] += x[1]\n",
    "    end\n",
    "    return u\n",
    "end\n",
    "\n",
    "# derivative examples:\n",
    "J_f_1(A, x) = Zygote.jacobian(x -> f_test_1(A, x), x)\n",
    "J_f_2(A, x) = Zygote.jacobian(x -> f_test_2(A, x), x)\n",
    "J_f_3(u, A, x) = Zygote.jacobian(x -> f_test_3!(u, A, x), x)"
   ]
  },
  {
   "cell_type": "code",
   "execution_count": 95,
   "metadata": {},
   "outputs": [
    {
     "data": {
      "text/plain": [
       "5-element Vector{Float64}:\n",
       " 2.0\n",
       " 2.0\n",
       " 2.0\n",
       " 2.0\n",
       " 2.0"
      ]
     },
     "metadata": {},
     "output_type": "display_data"
    },
    {
     "data": {
      "text/plain": [
       "5-element Vector{Float64}:\n",
       " 2.0\n",
       " 2.0\n",
       " 2.0\n",
       " 2.0\n",
       " 2.0"
      ]
     },
     "metadata": {},
     "output_type": "display_data"
    }
   ],
   "source": [
    "# test feval:\n",
    "A = Matrix{Float64}(LinearAlgebra.I, 5, 5)\n",
    "u = Vector{Float64}(undef, 5); fill!(u, 0.)\n",
    "x = ones(6)\n",
    "f_test_3!(u, A, x)\n",
    "display(u)\n",
    "\n",
    "fill!(u, 0.)\n",
    "f_test_4!(u, A, x)\n",
    "display(u)"
   ]
  },
  {
   "cell_type": "code",
   "execution_count": 86,
   "metadata": {
    "scrolled": true
   },
   "outputs": [
    {
     "data": {
      "text/plain": [
       "5×6 Matrix{Real}:\n",
       " 1.0  1.0  0.0  0.0  0.0  0.0\n",
       " 1.0  0.0  1.0  0.0  0.0  0.0\n",
       " 1.0  0.0  0.0  1.0  0.0  0.0\n",
       " 1.0  0.0  0.0  0.0  1.0  0.0\n",
       " 1.0  0.0  0.0  0.0  0.0  1.0"
      ]
     },
     "execution_count": 86,
     "metadata": {},
     "output_type": "execute_result"
    }
   ],
   "source": [
    "# test FD:\n",
    "A = Matrix{Real}(LinearAlgebra.I, 5, 5) \n",
    "u = Vector{Real}(undef, 5); fill!(u, 0.)\n",
    "ForwardDiff.jacobian(x -> f_test_3!(u, A, x), x)\n",
    "# only works when arrays' datatype = Real (which allocates to memoryu ⟹ slow)"
   ]
  },
  {
   "cell_type": "code",
   "execution_count": 87,
   "metadata": {
    "scrolled": true
   },
   "outputs": [
    {
     "data": {
      "text/plain": [
       "([1.0 1.0 … 0.0 0.0; 1.0 0.0 … 0.0 0.0; … ; 1.0 0.0 … 1.0 0.0; 1.0 0.0 … 0.0 1.0],)"
      ]
     },
     "execution_count": 87,
     "metadata": {},
     "output_type": "execute_result"
    }
   ],
   "source": [
    "# test RD:\n",
    "A = Matrix{Float64}(LinearAlgebra.I, 5, 5) \n",
    "u = Vector{Float64}(undef, 5); fill!(u, 0.)\n",
    "#Zygote.jacobian(x -> f_test_3!(u, A, x), x)\n",
    "Zygote.jacobian(x -> f_test_1(A, x), x)\n",
    "# only works for f_test_1"
   ]
  },
  {
   "cell_type": "code",
   "execution_count": 101,
   "metadata": {
    "scrolled": true
   },
   "outputs": [
    {
     "ename": "LoadError",
     "evalue": "ArgumentError: jacobian expected a function which returns an array, or a scalar, got Nothing",
     "output_type": "error",
     "traceback": [
      "ArgumentError: jacobian expected a function which returns an array, or a scalar, got Nothing",
      "",
      "Stacktrace:",
      "  [1] macro expansion",
      "    @ C:\\Users\\beryl\\.julia\\packages\\Zygote\\H6vD3\\src\\compiler\\interface2.jl:0 [inlined]",
      "  [2] _pullback(ctx::Zygote.Context, f::typeof(throw), args::ArgumentError)",
      "    @ Zygote C:\\Users\\beryl\\.julia\\packages\\Zygote\\H6vD3\\src\\compiler\\interface2.jl:9",
      "  [3] _pullback",
      "    @ C:\\Users\\beryl\\.julia\\packages\\Zygote\\H6vD3\\src\\lib\\grad.jl:173 [inlined]",
      "  [4] _pullback(ctx::Zygote.Context, f::typeof(Zygote._jvec), args::Nothing)",
      "    @ Zygote C:\\Users\\beryl\\.julia\\packages\\Zygote\\H6vD3\\src\\compiler\\interface2.jl:0",
      "  [5] _pullback",
      "    @ .\\operators.jl:1085 [inlined]",
      "  [6] _pullback(::Zygote.Context, ::Base.var\"##_#83\", ::Base.Pairs{Symbol, Union{}, Tuple{}, NamedTuple{(), Tuple{}}}, ::ComposedFunction{typeof(Zygote._jvec), var\"#271#272\"}, ::Vector{Float64})",
      "    @ Zygote C:\\Users\\beryl\\.julia\\packages\\Zygote\\H6vD3\\src\\compiler\\interface2.jl:0",
      "  [7] _apply(::Function, ::Vararg{Any})",
      "    @ Core .\\boot.jl:814",
      "  [8] adjoint",
      "    @ C:\\Users\\beryl\\.julia\\packages\\Zygote\\H6vD3\\src\\lib\\lib.jl:200 [inlined]",
      "  [9] _pullback",
      "    @ C:\\Users\\beryl\\.julia\\packages\\ZygoteRules\\AIbCs\\src\\adjoint.jl:65 [inlined]",
      " [10] _pullback",
      "    @ .\\operators.jl:1085 [inlined]",
      " [11] _pullback(ctx::Zygote.Context, f::ComposedFunction{typeof(Zygote._jvec), var\"#271#272\"}, args::Vector{Float64})",
      "    @ Zygote C:\\Users\\beryl\\.julia\\packages\\Zygote\\H6vD3\\src\\compiler\\interface2.jl:0",
      " [12] _pullback(f::Function, args::Vector{Float64})",
      "    @ Zygote C:\\Users\\beryl\\.julia\\packages\\Zygote\\H6vD3\\src\\compiler\\interface.jl:34",
      " [13] pullback(f::Function, args::Vector{Float64})",
      "    @ Zygote C:\\Users\\beryl\\.julia\\packages\\Zygote\\H6vD3\\src\\compiler\\interface.jl:40",
      " [14] withjacobian(f::Function, args::Vector{Float64})",
      "    @ Zygote C:\\Users\\beryl\\.julia\\packages\\Zygote\\H6vD3\\src\\lib\\grad.jl:153",
      " [15] jacobian(f::Function, args::Vector{Float64})",
      "    @ Zygote C:\\Users\\beryl\\.julia\\packages\\Zygote\\H6vD3\\src\\lib\\grad.jl:140",
      " [16] top-level scope",
      "    @ In[101]:4",
      " [17] eval",
      "    @ .\\boot.jl:373 [inlined]",
      " [18] include_string(mapexpr::typeof(REPL.softscope), mod::Module, code::String, filename::String)",
      "    @ Base .\\loading.jl:1196"
     ]
    }
   ],
   "source": [
    "# test [RD FD] on [_4 _4b]:\n",
    "fill!(u, 0.)\n",
    "#ForwardDiff.jacobian(x -> f_test_4b(A, x), x)\n",
    "Zygote.jacobian(x -> f_test_4!(u, A, x), x)\n",
    "#=\n",
    "_4:\n",
    "    - FD: output not detected...\n",
    "    - RD: idem\n",
    "_4b:\n",
    "    - FD: asks the output to be Real\n",
    "    - RD: usual 'mutating array' error\n",
    "=#"
   ]
  },
  {
   "cell_type": "code",
   "execution_count": 2,
   "metadata": {},
   "outputs": [
    {
     "data": {
      "text/plain": [
       "5×6 Matrix{Float64}:\n",
       " 1.0  1.0  0.0  0.0  0.0  0.0\n",
       " 1.0  0.0  1.0  0.0  0.0  0.0\n",
       " 1.0  0.0  0.0  1.0  0.0  0.0\n",
       " 1.0  0.0  0.0  0.0  1.0  0.0\n",
       " 1.0  0.0  0.0  0.0  0.0  1.0"
      ]
     },
     "execution_count": 2,
     "metadata": {},
     "output_type": "execute_result"
    }
   ],
   "source": [
    "# closure for tapes by @Steffen:\n",
    "function comp(A)\n",
    "    function f(x) \n",
    "        return A*x[2:end] .+ x[1] \n",
    "    end\n",
    "    return f \n",
    "end\n",
    "\n",
    "A = Matrix{Float64}(LinearAlgebra.I, 5,5)\n",
    "x = ones(6)\n",
    "\n",
    "f_tape = ReverseDiff.JacobianTape( comp(A), x)\n",
    "comp_f_tape = ReverseDiff.compile(f_tape)\n",
    "\n",
    "res = Array{Float64}(undef, (size(A)[1], length(x)))\n",
    "\n",
    "ReverseDiff.jacobian!(res, comp_f_tape, x)"
   ]
  },
  {
   "cell_type": "code",
   "execution_count": null,
   "metadata": {},
   "outputs": [],
   "source": []
  }
 ],
 "metadata": {
  "kernelspec": {
   "display_name": "Julia 1.6.1",
   "language": "julia",
   "name": "julia-1.6"
  },
  "language_info": {
   "file_extension": ".jl",
   "mimetype": "application/julia",
   "name": "julia",
   "version": "1.6.1"
  }
 },
 "nbformat": 4,
 "nbformat_minor": 2
}
