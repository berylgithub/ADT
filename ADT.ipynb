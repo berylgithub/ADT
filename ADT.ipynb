{
 "cells": [
  {
   "cell_type": "code",
   "execution_count": 161,
   "metadata": {},
   "outputs": [],
   "source": [
    "using Zygote, ReverseDiff, ForwardDiff, LinearAlgebra\n",
    "using BenchmarkTools"
   ]
  },
  {
   "cell_type": "code",
   "execution_count": 91,
   "metadata": {},
   "outputs": [
    {
     "data": {
      "text/plain": [
       "J_f_3 (generic function with 1 method)"
      ]
     },
     "execution_count": 91,
     "metadata": {},
     "output_type": "execute_result"
    }
   ],
   "source": [
    "\"\"\"\n",
    "u = Ax + some constant col vector\n",
    "\"\"\"\n",
    "function f_test_1(A, x)\n",
    "    u = A*x[2:end] .+ x[1]\n",
    "    return u\n",
    "end\n",
    "\n",
    "\"\"\"\n",
    "alloc inside\n",
    "\"\"\"\n",
    "function f_test_2(A, x)\n",
    "    u = Vector{Float64}(undef, length(x)-1)\n",
    "    u .= A*x[2:end] .+ x[1]\n",
    "    return u\n",
    "end\n",
    "\n",
    "\"\"\"\n",
    "non-alloc ver\n",
    "\"\"\"\n",
    "function f_test_3!(u, A, x)\n",
    "    u .= A*x[2:end] .+ x[1]\n",
    "end\n",
    "\n",
    "\n",
    "\"\"\"\n",
    "unrolled loop ver (nonalloc)\n",
    "\"\"\"\n",
    "function f_test_4!(u, A, x)\n",
    "    row_idx = 1:size(A)[1]; col_idx = 1:size(A)[2]\n",
    "    for j ∈ col_idx\n",
    "        for i ∈ row_idx\n",
    "            u[i] += A[i,j]*x[j+1]\n",
    "        end\n",
    "    end\n",
    "    for i ∈ row_idx\n",
    "        u[i] += x[1]\n",
    "    end\n",
    "end\n",
    "\n",
    "\"\"\"\n",
    "= _4 but allocates & returns the output explicitly\n",
    "\"\"\"\n",
    "function f_test_4b(A, x)\n",
    "    row_size = size(A)[1]\n",
    "    row_idx = 1:row_size; col_idx = 1:size(A)[2]\n",
    "    u = Vector{Float64}(undef, row_size); fill!(u, 0.)\n",
    "    for j ∈ col_idx\n",
    "        for i ∈ row_idx\n",
    "            u[i] += A[i,j]*x[j+1]\n",
    "        end\n",
    "    end\n",
    "    for i ∈ row_idx\n",
    "        u[i] += x[1]\n",
    "    end\n",
    "    return u\n",
    "end\n",
    "\n",
    "# derivative examples:\n",
    "J_f_1(A, x) = Zygote.jacobian(x -> f_test_1(A, x), x)\n",
    "J_f_2(A, x) = Zygote.jacobian(x -> f_test_2(A, x), x)\n",
    "J_f_3(u, A, x) = Zygote.jacobian(x -> f_test_3!(u, A, x), x)"
   ]
  },
  {
   "cell_type": "code",
   "execution_count": 95,
   "metadata": {},
   "outputs": [
    {
     "data": {
      "text/plain": [
       "5-element Vector{Float64}:\n",
       " 2.0\n",
       " 2.0\n",
       " 2.0\n",
       " 2.0\n",
       " 2.0"
      ]
     },
     "metadata": {},
     "output_type": "display_data"
    },
    {
     "data": {
      "text/plain": [
       "5-element Vector{Float64}:\n",
       " 2.0\n",
       " 2.0\n",
       " 2.0\n",
       " 2.0\n",
       " 2.0"
      ]
     },
     "metadata": {},
     "output_type": "display_data"
    }
   ],
   "source": [
    "# test feval:\n",
    "A = Matrix{Float64}(LinearAlgebra.I, 5, 5)\n",
    "u = Vector{Float64}(undef, 5); fill!(u, 0.)\n",
    "x = ones(6)\n",
    "f_test_3!(u, A, x)\n",
    "display(u)\n",
    "\n",
    "fill!(u, 0.)\n",
    "f_test_4!(u, A, x)\n",
    "display(u)"
   ]
  },
  {
   "cell_type": "code",
   "execution_count": 86,
   "metadata": {
    "scrolled": true
   },
   "outputs": [
    {
     "data": {
      "text/plain": [
       "5×6 Matrix{Real}:\n",
       " 1.0  1.0  0.0  0.0  0.0  0.0\n",
       " 1.0  0.0  1.0  0.0  0.0  0.0\n",
       " 1.0  0.0  0.0  1.0  0.0  0.0\n",
       " 1.0  0.0  0.0  0.0  1.0  0.0\n",
       " 1.0  0.0  0.0  0.0  0.0  1.0"
      ]
     },
     "execution_count": 86,
     "metadata": {},
     "output_type": "execute_result"
    }
   ],
   "source": [
    "# test FD:\n",
    "A = Matrix{Real}(LinearAlgebra.I, 5, 5) \n",
    "u = Vector{Real}(undef, 5); fill!(u, 0.)\n",
    "ForwardDiff.jacobian(x -> f_test_3!(u, A, x), x)\n",
    "# only works when arrays' datatype = Real (which allocates to memoryu ⟹ slow)"
   ]
  },
  {
   "cell_type": "code",
   "execution_count": 87,
   "metadata": {
    "scrolled": true
   },
   "outputs": [
    {
     "data": {
      "text/plain": [
       "([1.0 1.0 … 0.0 0.0; 1.0 0.0 … 0.0 0.0; … ; 1.0 0.0 … 1.0 0.0; 1.0 0.0 … 0.0 1.0],)"
      ]
     },
     "execution_count": 87,
     "metadata": {},
     "output_type": "execute_result"
    }
   ],
   "source": [
    "# test RD:\n",
    "A = Matrix{Float64}(LinearAlgebra.I, 5, 5) \n",
    "u = Vector{Float64}(undef, 5); fill!(u, 0.)\n",
    "#Zygote.jacobian(x -> f_test_3!(u, A, x), x)\n",
    "Zygote.jacobian(x -> f_test_1(A, x), x)\n",
    "# only works for f_test_1"
   ]
  },
  {
   "cell_type": "code",
   "execution_count": null,
   "metadata": {
    "scrolled": true
   },
   "outputs": [],
   "source": [
    "# test [RD FD] on [_4 _4b]:\n",
    "fill!(u, 0.)\n",
    "#ForwardDiff.jacobian(x -> f_test_4b(A, x), x)\n",
    "Zygote.jacobian(x -> f_test_4!(u, A, x), x)\n",
    "#=\n",
    "_4:\n",
    "    - FD: output not detected...\n",
    "    - RD: idem\n",
    "_4b:\n",
    "    - FD: asks the output to be Real\n",
    "    - RD: usual 'mutating array' error\n",
    "=#"
   ]
  },
  {
   "cell_type": "code",
   "execution_count": 2,
   "metadata": {},
   "outputs": [
    {
     "data": {
      "text/plain": [
       "5×6 Matrix{Float64}:\n",
       " 1.0  1.0  0.0  0.0  0.0  0.0\n",
       " 1.0  0.0  1.0  0.0  0.0  0.0\n",
       " 1.0  0.0  0.0  1.0  0.0  0.0\n",
       " 1.0  0.0  0.0  0.0  1.0  0.0\n",
       " 1.0  0.0  0.0  0.0  0.0  1.0"
      ]
     },
     "execution_count": 2,
     "metadata": {},
     "output_type": "execute_result"
    }
   ],
   "source": [
    "# closure for tapes by @Steffen:\n",
    "function comp(A)\n",
    "    function f(x) \n",
    "        return A*x[2:end] .+ x[1] \n",
    "    end\n",
    "    return f \n",
    "end\n",
    "\n",
    "A = Matrix{Float64}(LinearAlgebra.I, 5,5)\n",
    "x = ones(6)\n",
    "\n",
    "f_tape = ReverseDiff.JacobianTape( comp(A), x)\n",
    "comp_f_tape = ReverseDiff.compile(f_tape)\n",
    "\n",
    "res = Array{Float64}(undef, (size(A)[1], length(x)))\n",
    "\n",
    "ReverseDiff.jacobian!(res, comp_f_tape, x)"
   ]
  },
  {
   "cell_type": "markdown",
   "metadata": {},
   "source": [
    "### Taping experiments:"
   ]
  },
  {
   "cell_type": "code",
   "execution_count": 170,
   "metadata": {},
   "outputs": [
    {
     "data": {
      "text/plain": [
       "g_closure (generic function with 1 method)"
      ]
     },
     "execution_count": 170,
     "metadata": {},
     "output_type": "execute_result"
    }
   ],
   "source": [
    "# functions to be tested:\n",
    "f(x, y) = sum(x.*y)\n",
    "function g(x, Y, n_row, n_col)\n",
    "    return map(i -> f(x, @view Y[:, i]), 1:n_col)\n",
    "end\n",
    "function g_closure(x) # so it can be differentiatied wrt x only\n",
    "    return g(x, Y, n_row, n_col)\n",
    "end"
   ]
  },
  {
   "cell_type": "code",
   "execution_count": 171,
   "metadata": {},
   "outputs": [
    {
     "data": {
      "text/plain": [
       "taped (generic function with 3 methods)"
      ]
     },
     "execution_count": 171,
     "metadata": {},
     "output_type": "execute_result"
    }
   ],
   "source": [
    "# gradient functions:\n",
    "function no_tape(x, Y, n_row, n_col)\n",
    "    out = Matrix{Float64}(undef, n_row, n_col)\n",
    "    for i ∈ 1:n_col\n",
    "        out[:, i] = ReverseDiff.gradient(x -> f(x, (@view Y[:, i])), x)\n",
    "    end\n",
    "    return out\n",
    "end\n",
    "\n",
    "function taped(x, Y, n_row, n_col)\n",
    "    g_tape = ReverseDiff.JacobianTape(g_closure, (x))\n",
    "    compiled_g_tape = ReverseDiff.compile(g_tape)\n",
    "    inputs = x\n",
    "    results = Matrix{Float64}(undef, n_col, n_row)\n",
    "    ReverseDiff.jacobian!(results, compiled_g_tape, inputs)\n",
    "    return transpose(results)\n",
    "end"
   ]
  },
  {
   "cell_type": "code",
   "execution_count": 172,
   "metadata": {},
   "outputs": [
    {
     "data": {
      "text/plain": [
       "5×100 Matrix{Float64}:\n",
       " 0.0902699  0.180404  0.273062  0.842055   …  0.123996   0.70717   0.486043\n",
       " 0.355467   0.781166  0.231785  0.0948917     0.925708   0.279357  0.973246\n",
       " 0.723439   0.214456  0.573253  0.434728      0.0597611  0.686578  0.579483\n",
       " 0.691432   0.800322  0.372804  0.160001      0.941417   0.992057  0.366285\n",
       " 0.123431   0.272564  0.152883  0.104103      0.455321   0.7161    0.94599"
      ]
     },
     "metadata": {},
     "output_type": "display_data"
    }
   ],
   "source": [
    "# initialize data:\n",
    "n_row, n_col = (5, 100)\n",
    "x = ones(n_row)\n",
    "Y = rand(n_row, n_col)\n",
    "display(Y)\n",
    "#=\n",
    "to test the correctness of the functions:\n",
    "g(x, Y, n_row, n_col)\n",
    "g_closure(x)\n",
    "=#"
   ]
  },
  {
   "cell_type": "code",
   "execution_count": 173,
   "metadata": {},
   "outputs": [
    {
     "data": {
      "text/plain": [
       "5×100 Matrix{Float64}:\n",
       " 0.0902699  0.180404  0.273062  0.842055   …  0.123996   0.70717   0.486043\n",
       " 0.355467   0.781166  0.231785  0.0948917     0.925708   0.279357  0.973246\n",
       " 0.723439   0.214456  0.573253  0.434728      0.0597611  0.686578  0.579483\n",
       " 0.691432   0.800322  0.372804  0.160001      0.941417   0.992057  0.366285\n",
       " 0.123431   0.272564  0.152883  0.104103      0.455321   0.7161    0.94599"
      ]
     },
     "execution_count": 173,
     "metadata": {},
     "output_type": "execute_result"
    }
   ],
   "source": [
    "no_tape(x, Y, n_row, n_col)"
   ]
  },
  {
   "cell_type": "code",
   "execution_count": 174,
   "metadata": {
    "scrolled": true
   },
   "outputs": [
    {
     "data": {
      "text/plain": [
       "5×100 transpose(::Matrix{Float64}) with eltype Float64:\n",
       " 0.0902699  0.180404  0.273062  0.842055   …  0.123996   0.70717   0.486043\n",
       " 0.355467   0.781166  0.231785  0.0948917     0.925708   0.279357  0.973246\n",
       " 0.723439   0.214456  0.573253  0.434728      0.0597611  0.686578  0.579483\n",
       " 0.691432   0.800322  0.372804  0.160001      0.941417   0.992057  0.366285\n",
       " 0.123431   0.272564  0.152883  0.104103      0.455321   0.7161    0.94599"
      ]
     },
     "execution_count": 174,
     "metadata": {},
     "output_type": "execute_result"
    }
   ],
   "source": [
    "taped(x, Y, n_row, n_col)"
   ]
  },
  {
   "cell_type": "code",
   "execution_count": 175,
   "metadata": {},
   "outputs": [
    {
     "data": {
      "text/plain": [
       "BenchmarkTools.Trial: 10000 samples with 1 evaluation.\n",
       " Range \u001b[90m(\u001b[39m\u001b[36m\u001b[1mmin\u001b[22m\u001b[39m … \u001b[35mmax\u001b[39m\u001b[90m):  \u001b[39m\u001b[36m\u001b[1m42.900 μs\u001b[22m\u001b[39m … \u001b[35m  6.827 ms\u001b[39m  \u001b[90m┊\u001b[39m GC \u001b[90m(\u001b[39mmin … max\u001b[90m): \u001b[39m 0.00% … 98.80%\n",
       " Time  \u001b[90m(\u001b[39m\u001b[34m\u001b[1mmedian\u001b[22m\u001b[39m\u001b[90m):     \u001b[39m\u001b[34m\u001b[1m45.600 μs               \u001b[22m\u001b[39m\u001b[90m┊\u001b[39m GC \u001b[90m(\u001b[39mmedian\u001b[90m):    \u001b[39m 0.00%\n",
       " Time  \u001b[90m(\u001b[39m\u001b[32m\u001b[1mmean\u001b[22m\u001b[39m ± \u001b[32mσ\u001b[39m\u001b[90m):   \u001b[39m\u001b[32m\u001b[1m58.756 μs\u001b[22m\u001b[39m ± \u001b[32m234.927 μs\u001b[39m  \u001b[90m┊\u001b[39m GC \u001b[90m(\u001b[39mmean ± σ\u001b[90m):  \u001b[39m18.13% ±  4.52%\n",
       "\n",
       "  \u001b[39m \u001b[39m▃\u001b[39m▇\u001b[39m█\u001b[34m▇\u001b[39m\u001b[39m▆\u001b[39m▅\u001b[39m▄\u001b[39m▄\u001b[39m▃\u001b[39m▂\u001b[39m▂\u001b[39m▁\u001b[39m▂\u001b[39m▁\u001b[39m \u001b[39m \u001b[39m \u001b[39m \u001b[39m \u001b[39m \u001b[39m \u001b[39m \u001b[39m \u001b[39m \u001b[32m \u001b[39m\u001b[39m \u001b[39m \u001b[39m \u001b[39m \u001b[39m \u001b[39m \u001b[39m \u001b[39m \u001b[39m \u001b[39m \u001b[39m \u001b[39m \u001b[39m \u001b[39m \u001b[39m \u001b[39m \u001b[39m \u001b[39m \u001b[39m \u001b[39m \u001b[39m \u001b[39m \u001b[39m \u001b[39m \u001b[39m \u001b[39m \u001b[39m \u001b[39m \u001b[39m \u001b[39m \u001b[39m \u001b[39m \u001b[39m \u001b[39m \u001b[39m \u001b[39m▂\n",
       "  \u001b[39m█\u001b[39m█\u001b[39m█\u001b[39m█\u001b[34m█\u001b[39m\u001b[39m█\u001b[39m█\u001b[39m█\u001b[39m█\u001b[39m█\u001b[39m█\u001b[39m█\u001b[39m█\u001b[39m█\u001b[39m█\u001b[39m█\u001b[39m█\u001b[39m▇\u001b[39m▇\u001b[39m▇\u001b[39m▆\u001b[39m▆\u001b[39m▇\u001b[39m▇\u001b[39m▆\u001b[32m▅\u001b[39m\u001b[39m▇\u001b[39m▅\u001b[39m▆\u001b[39m▆\u001b[39m▆\u001b[39m▆\u001b[39m▆\u001b[39m▆\u001b[39m▇\u001b[39m█\u001b[39m█\u001b[39m█\u001b[39m█\u001b[39m█\u001b[39m█\u001b[39m█\u001b[39m▇\u001b[39m█\u001b[39m▇\u001b[39m▇\u001b[39m▆\u001b[39m▆\u001b[39m▆\u001b[39m▇\u001b[39m▇\u001b[39m▆\u001b[39m▄\u001b[39m▆\u001b[39m▅\u001b[39m▆\u001b[39m▅\u001b[39m▄\u001b[39m▅\u001b[39m▄\u001b[39m \u001b[39m█\n",
       "  42.9 μs\u001b[90m       \u001b[39m\u001b[90mHistogram: \u001b[39m\u001b[90m\u001b[1mlog(\u001b[22m\u001b[39m\u001b[90mfrequency\u001b[39m\u001b[90m\u001b[1m)\u001b[22m\u001b[39m\u001b[90m by time\u001b[39m      80.7 μs \u001b[0m\u001b[1m<\u001b[22m\n",
       "\n",
       " Memory estimate\u001b[90m: \u001b[39m\u001b[33m102.50 KiB\u001b[39m, allocs estimate\u001b[90m: \u001b[39m\u001b[33m1601\u001b[39m."
      ]
     },
     "execution_count": 175,
     "metadata": {},
     "output_type": "execute_result"
    }
   ],
   "source": [
    "@benchmark no_tape($x, $Y, $n_row, $n_col)"
   ]
  },
  {
   "cell_type": "code",
   "execution_count": 176,
   "metadata": {},
   "outputs": [
    {
     "data": {
      "text/plain": [
       "BenchmarkTools.Trial: 10000 samples with 1 evaluation.\n",
       " Range \u001b[90m(\u001b[39m\u001b[36m\u001b[1mmin\u001b[22m\u001b[39m … \u001b[35mmax\u001b[39m\u001b[90m):  \u001b[39m\u001b[36m\u001b[1m334.700 μs\u001b[22m\u001b[39m … \u001b[35m  7.593 ms\u001b[39m  \u001b[90m┊\u001b[39m GC \u001b[90m(\u001b[39mmin … max\u001b[90m): \u001b[39m0.00% … 94.22%\n",
       " Time  \u001b[90m(\u001b[39m\u001b[34m\u001b[1mmedian\u001b[22m\u001b[39m\u001b[90m):     \u001b[39m\u001b[34m\u001b[1m350.100 μs               \u001b[22m\u001b[39m\u001b[90m┊\u001b[39m GC \u001b[90m(\u001b[39mmedian\u001b[90m):    \u001b[39m0.00%\n",
       " Time  \u001b[90m(\u001b[39m\u001b[32m\u001b[1mmean\u001b[22m\u001b[39m ± \u001b[32mσ\u001b[39m\u001b[90m):   \u001b[39m\u001b[32m\u001b[1m371.120 μs\u001b[22m\u001b[39m ± \u001b[32m271.316 μs\u001b[39m  \u001b[90m┊\u001b[39m GC \u001b[90m(\u001b[39mmean ± σ\u001b[90m):  \u001b[39m3.15% ±  4.10%\n",
       "\n",
       "  \u001b[39m \u001b[39m \u001b[39m▆\u001b[39m█\u001b[39m▅\u001b[34m▂\u001b[39m\u001b[39m \u001b[39m \u001b[39m \u001b[39m \u001b[39m \u001b[39m \u001b[32m \u001b[39m\u001b[39m \u001b[39m \u001b[39m \u001b[39m \u001b[39m \u001b[39m \u001b[39m \u001b[39m \u001b[39m \u001b[39m \u001b[39m \u001b[39m \u001b[39m \u001b[39m \u001b[39m \u001b[39m \u001b[39m \u001b[39m \u001b[39m \u001b[39m \u001b[39m \u001b[39m \u001b[39m \u001b[39m \u001b[39m \u001b[39m \u001b[39m \u001b[39m \u001b[39m \u001b[39m \u001b[39m \u001b[39m \u001b[39m \u001b[39m \u001b[39m \u001b[39m \u001b[39m \u001b[39m \u001b[39m \u001b[39m \u001b[39m \u001b[39m \u001b[39m \u001b[39m \u001b[39m \u001b[39m \u001b[39m \u001b[39m \u001b[39m \u001b[39m \n",
       "  \u001b[39m▃\u001b[39m▆\u001b[39m█\u001b[39m█\u001b[39m█\u001b[34m█\u001b[39m\u001b[39m▇\u001b[39m▆\u001b[39m▅\u001b[39m▄\u001b[39m▄\u001b[39m▄\u001b[32m▄\u001b[39m\u001b[39m▄\u001b[39m▄\u001b[39m▄\u001b[39m▃\u001b[39m▃\u001b[39m▃\u001b[39m▃\u001b[39m▂\u001b[39m▂\u001b[39m▂\u001b[39m▂\u001b[39m▂\u001b[39m▂\u001b[39m▂\u001b[39m▂\u001b[39m▂\u001b[39m▂\u001b[39m▂\u001b[39m▂\u001b[39m▂\u001b[39m▂\u001b[39m▂\u001b[39m▂\u001b[39m▂\u001b[39m▂\u001b[39m▂\u001b[39m▂\u001b[39m▂\u001b[39m▂\u001b[39m▂\u001b[39m▂\u001b[39m▂\u001b[39m▂\u001b[39m▂\u001b[39m▂\u001b[39m▂\u001b[39m▂\u001b[39m▂\u001b[39m▁\u001b[39m▂\u001b[39m▂\u001b[39m▂\u001b[39m▂\u001b[39m▂\u001b[39m▂\u001b[39m▂\u001b[39m▂\u001b[39m▂\u001b[39m \u001b[39m▃\n",
       "  335 μs\u001b[90m           Histogram: frequency by time\u001b[39m          519 μs \u001b[0m\u001b[1m<\u001b[22m\n",
       "\n",
       " Memory estimate\u001b[90m: \u001b[39m\u001b[33m102.23 KiB\u001b[39m, allocs estimate\u001b[90m: \u001b[39m\u001b[33m1714\u001b[39m."
      ]
     },
     "execution_count": 176,
     "metadata": {},
     "output_type": "execute_result"
    }
   ],
   "source": [
    "@benchmark taped($x, $Y, $n_row, $n_col)"
   ]
  }
 ],
 "metadata": {
  "kernelspec": {
   "display_name": "Julia 1.7.2",
   "language": "julia",
   "name": "julia-1.7"
  },
  "language_info": {
   "file_extension": ".jl",
   "mimetype": "application/julia",
   "name": "julia",
   "version": "1.7.2"
  }
 },
 "nbformat": 4,
 "nbformat_minor": 2
}
